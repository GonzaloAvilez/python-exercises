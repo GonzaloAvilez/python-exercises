{
  "nbformat": 4,
  "nbformat_minor": 0,
  "metadata": {
    "colab": {
      "name": "Untitled2.ipynb",
      "provenance": [],
      "authorship_tag": "ABX9TyOoO6gubXdVaXk6vGvdNi+L",
      "include_colab_link": true
    },
    "kernelspec": {
      "name": "python3",
      "display_name": "Python 3"
    },
    "language_info": {
      "name": "python"
    }
  },
  "cells": [
    {
      "cell_type": "markdown",
      "metadata": {
        "id": "view-in-github",
        "colab_type": "text"
      },
      "source": [
        "<a href=\"https://colab.research.google.com/github/GonzaloAvilez/python-exercises/blob/master/sudoku2.ipynb\" target=\"_parent\"><img src=\"https://colab.research.google.com/assets/colab-badge.svg\" alt=\"Open In Colab\"/></a>"
      ]
    },
    {
      "cell_type": "code",
      "metadata": {
        "colab": {
          "base_uri": "https://localhost:8080/"
        },
        "id": "7fCULizzjIv_",
        "outputId": "0e13b709-8c63-4d04-87be-82d278eb6a53"
      },
      "source": [
        "# Sudoku is a number-placement puzzle. The objective is to fill a 9 × 9 grid \n",
        "# with numbers in such a way that each column, each row, and each of the nine \n",
        "#3 × 3 sub-grids that compose the grid all contain all of the numbers from 1 to 9 one time.\n",
        "\n",
        "# Implement an algorithm that will check whether the given grid of numbers represents \n",
        "# a valid Sudoku puzzle according to the layout rules described above.\n",
        "# Note that the puzzle represented by grid does not have to be solvable.\n",
        "\n",
        "\n",
        "grid_sample = [[\".\",\".\",\".\",\"2\",\".\",\".\",\"6\",\".\",\".\"], \n",
        "               [\".\",\".\",\".\",\"1\",\".\",\".\",\".\",\".\",\".\"], \n",
        "               [\".\",\".\",\".\",\".\",\".\",\".\",\".\",\".\",\".\"], \n",
        "               [\".\",\".\",\".\",\"5\",\".\",\"1\",\".\",\".\",\"8\"], \n",
        "               [\".\",\"3\",\".\",\".\",\".\",\".\",\".\",\".\",\".\"], \n",
        "               [\".\",\".\",\".\",\"9\",\".\",\".\",\".\",\".\",\"3\"], \n",
        "               [\"4\",\".\",\".\",\".\",\".\",\".\",\".\",\".\",\".\"], \n",
        "               [\".\",\".\",\".\",\".\",\".\",\".\",\"3\",\"8\",\".\"], \n",
        "               [\".\",\".\",\".\",\".\",\".\",\".\",\".\",\".\",\"4\"]]\n",
        "\n",
        "\n",
        "def valid_unique(array):\n",
        "    unique_values = set()\n",
        "    for obj in array:\n",
        "        if obj.isdigit():\n",
        "            if obj in unique_values:\n",
        "                return False\n",
        "            else:\n",
        "                unique_values.add(obj)\n",
        "    return True\n",
        "\n",
        "def any_block_valid(grid):\n",
        "    matrix3x3 = []\n",
        "    for row in range(0, 9, 3):\n",
        "        for col in range(0,9, 3):\n",
        "            matrix3x3 = grid[row][col:col+3] + grid[row+1][col:col+3] + grid[row+2][col:col+3]\n",
        "            numbers = [num for num in matrix3x3 if num.isdigit()]\n",
        "            if not valid_unique(numbers):\n",
        "                return False\n",
        "    return True  \n",
        "\n",
        "def sudoku2(grid):\n",
        "    for i in range(9):\n",
        "        #rotates 90° converting cols in rows\n",
        "        cols = [line[i] for line in grid]\n",
        "        if not valid_unique(cols):\n",
        "            return False\n",
        "        else:\n",
        "            continue\n",
        "    \n",
        "    for row in grid:\n",
        "        #validates rows\n",
        "        if not valid_unique(row):\n",
        "            return False\n",
        "        else:\n",
        "            continue\n",
        "        \n",
        "    if not any_block_valid(grid):\n",
        "        # validates every 3x3 matrix\n",
        "        return False\n",
        "    return True\n",
        "        \n",
        "\n",
        "sudoku2(grid_sample)"
      ],
      "execution_count": 2,
      "outputs": [
        {
          "output_type": "execute_result",
          "data": {
            "text/plain": [
              "True"
            ]
          },
          "metadata": {
            "tags": []
          },
          "execution_count": 2
        }
      ]
    }
  ]
}