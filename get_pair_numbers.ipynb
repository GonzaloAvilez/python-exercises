{
  "nbformat": 4,
  "nbformat_minor": 0,
  "metadata": {
    "colab": {
      "name": "get_pair_numbers.ipynb",
      "provenance": [],
      "collapsed_sections": [],
      "include_colab_link": true
    },
    "kernelspec": {
      "name": "python3",
      "display_name": "Python 3"
    }
  },
  "cells": [
    {
      "cell_type": "markdown",
      "metadata": {
        "id": "view-in-github",
        "colab_type": "text"
      },
      "source": [
        "<a href=\"https://colab.research.google.com/github/GonzaloAvilez/python-exercises/blob/master/get_pair_numbers.ipynb\" target=\"_parent\"><img src=\"https://colab.research.google.com/assets/colab-badge.svg\" alt=\"Open In Colab\"/></a>"
      ]
    },
    {
      "cell_type": "markdown",
      "metadata": {
        "id": "SLCZbl74_NYf",
        "colab_type": "text"
      },
      "source": [
        ""
      ]
    },
    {
      "cell_type": "code",
      "metadata": {
        "id": "8rlXVSIA_NBI",
        "colab_type": "code",
        "outputId": "f7008b2e-1423-49d0-99e5-6f86965d3719",
        "colab": {
          "base_uri": "https://localhost:8080/",
          "height": 34
        }
      },
      "source": [
        "'''\n",
        "Getting all natural numbers that are pairs \n",
        "counting before the given number\n",
        "'''\n",
        "def get_pairs(num):\n",
        "  results = []\n",
        "  for object in range(num+1):\n",
        "    if object%2 == 0:\n",
        "      results.append(object)\n",
        "  return 'pair numbers living before {} are: {}'.format(num, results)\n",
        "                                                                                \n",
        "# Sample with number ten:\n",
        "#get_pairs(10)\n",
        "\n",
        "\n",
        "# TIME EXeECUTION for get_pairs() \n",
        "import timeit\n",
        "\n",
        "print(timeit.timeit('get_pairs(10)', 'from __main__ import get_pairs', number=1))\n"
      ],
      "execution_count": 2,
      "outputs": [
        {
          "output_type": "stream",
          "text": [
            "2.985000000421678e-05\n"
          ],
          "name": "stdout"
        }
      ]
    }
  ]
}