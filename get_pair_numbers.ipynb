{
  "nbformat": 4,
  "nbformat_minor": 0,
  "metadata": {
    "colab": {
      "name": "get_pair_numbers.ipynb",
      "provenance": [],
      "collapsed_sections": [],
      "include_colab_link": true
    },
    "kernelspec": {
      "name": "python3",
      "display_name": "Python 3"
    }
  },
  "cells": [
    {
      "cell_type": "markdown",
      "metadata": {
        "id": "view-in-github",
        "colab_type": "text"
      },
      "source": [
        "<a href=\"https://colab.research.google.com/github/GonzaloAvilez/python-exercises/blob/master/get_pair_numbers.ipynb\" target=\"_parent\"><img src=\"https://colab.research.google.com/assets/colab-badge.svg\" alt=\"Open In Colab\"/></a>"
      ]
    },
    {
      "cell_type": "code",
      "metadata": {
        "id": "lV6j6zYC_DWL",
        "colab_type": "code",
        "colab": {}
      },
      "source": [
        ""
      ],
      "execution_count": 0,
      "outputs": []
    },
    {
      "cell_type": "markdown",
      "metadata": {
        "id": "SLCZbl74_NYf",
        "colab_type": "text"
      },
      "source": [
        ""
      ]
    },
    {
      "cell_type": "code",
      "metadata": {
        "id": "8rlXVSIA_NBI",
        "colab_type": "code",
        "outputId": "35c7db7d-aa3b-4c78-999a-00392ab7e448",
        "colab": {
          "base_uri": "https://localhost:8080/",
          "height": 34
        }
      },
      "source": [
        "'''\n",
        "Getting all natural numbers that are pairs \n",
        "counting before the given number\n",
        "'''\n",
        "def get_pairs(num):\n",
        "  results = []\n",
        "  for object in range(num+1):\n",
        "    if object%2 == 0:\n",
        "      results.append(object)\n",
        "  return 'pair numbers living'\\\n",
        "         'before {} are: {}'.format(num, results)\n",
        "\n",
        "#sample with number ten:\n",
        "get_pairs(10)\n"
      ],
      "execution_count": 0,
      "outputs": [
        {
          "output_type": "execute_result",
          "data": {
            "text/plain": [
              "'pair numbers living before 10 are: [0, 2, 4, 6, 8, 10]'"
            ]
          },
          "metadata": {
            "tags": []
          },
          "execution_count": 5
        }
      ]
    }
  ]
}
