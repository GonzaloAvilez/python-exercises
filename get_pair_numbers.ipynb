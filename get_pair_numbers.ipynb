{
  "nbformat": 4,
  "nbformat_minor": 0,
  "metadata": {
    "colab": {
      "name": "get_pair_numbers.ipynb",
      "provenance": [],
      "collapsed_sections": [],
      "include_colab_link": true
    },
    "kernelspec": {
      "name": "python3",
      "display_name": "Python 3"
    }
  },
  "cells": [
    {
      "cell_type": "markdown",
      "metadata": {
        "id": "view-in-github",
        "colab_type": "text"
      },
      "source": [
        "<a href=\"https://colab.research.google.com/github/GonzaloAvilez/python-exercises/blob/master/get_pair_numbers.ipynb\" target=\"_parent\"><img src=\"https://colab.research.google.com/assets/colab-badge.svg\" alt=\"Open In Colab\"/></a>"
      ]
    },
    {
      "cell_type": "markdown",
      "metadata": {
        "id": "SLCZbl74_NYf",
        "colab_type": "text"
      },
      "source": [
        ""
      ]
    },
    {
      "cell_type": "code",
      "metadata": {
        "id": "8rlXVSIA_NBI",
        "colab_type": "code",
        "outputId": "150c3f88-07a8-4f8f-f02a-8662061bcdd3",
        "colab": {
          "base_uri": "https://localhost:8080/",
          "height": 87
        }
      },
      "source": [
        "'''\n",
        "Getting all natural numbers that are pairs \n",
        "counting all until the given number\n",
        "'''\n",
        "def get_pairs(num):\n",
        "  results = []\n",
        "  for object in range(num+1):\n",
        "    if object%2 == 0:\n",
        "      results.append(object)\n",
        "  print ('pair numbers living before {} are: {}'\\\n",
        "          .format(num, results))\n",
        "                                                                                \n",
        "\n",
        "\n",
        "def get_pairs_compressed(num):\n",
        "  print ('pair numbers living before {} are: {}'\\\n",
        "          .format(num,[x for x in range(num+1) if x%2==0]))\n",
        "\n",
        "\n",
        "\n",
        "# TIME EXECUTION for given functions\n",
        "import timeit\n",
        "\n",
        "print(timeit.timeit(\n",
        "    'get_pairs(10)',\n",
        "    'from __main__ import get_pairs',\n",
        "    number=1)\n",
        ")\n",
        "print(timeit.timeit(\n",
        "    'get_pairs_compressed(10)',\n",
        "    'from __main__ import get_pairs_compressed',\n",
        "    number=1))"
      ],
      "execution_count": 24,
      "outputs": [
        {
          "output_type": "stream",
          "text": [
            "pair numbers living before 10 are: [0, 2, 4, 6, 8, 10]\n",
            "0.001054517000056876\n",
            "pair numbers living before 10 are: [0, 2, 4, 6, 8, 10]\n",
            "0.00024193499996272294\n"
          ],
          "name": "stdout"
        }
      ]
    }
  ]
}